{
 "cells": [
  {
   "cell_type": "code",
   "execution_count": 1,
   "id": "f15b8fd6",
   "metadata": {},
   "outputs": [
    {
     "data": {
      "text/plain": [
       "'\\nDavid Pogrebitskiy\\nDS2500\\nProject 1: Used Car Attribute Importance\\n02/23/2022\\n'"
      ]
     },
     "execution_count": 1,
     "metadata": {},
     "output_type": "execute_result"
    }
   ],
   "source": [
    "'''\n",
    "David Pogrebitskiy\n",
    "DS2500\n",
    "Project 1: Used Car Attribute Importance\n",
    "02/23/2022\n",
    "'''"
   ]
  },
  {
   "cell_type": "code",
   "execution_count": 2,
   "id": "ff59622b",
   "metadata": {},
   "outputs": [
    {
     "data": {
      "text/plain": [
       "'\\nResearch Question:\\n    Which features/attributes are most significant\\n    when determing the price of a used car?\\n'"
      ]
     },
     "execution_count": 2,
     "metadata": {},
     "output_type": "execute_result"
    }
   ],
   "source": [
    "'''\n",
    "Research Question:\n",
    "    Which features/attributes are most significant\n",
    "    when determing the price of a used car?\n",
    "'''"
   ]
  },
  {
   "cell_type": "code",
   "execution_count": 3,
   "id": "4d543361",
   "metadata": {},
   "outputs": [],
   "source": [
    "import pandas as pd\n",
    "import numpy as np\n",
    "import matplotlib.pyplot as plt\n",
    "import seaborn as sns\n",
    "import scipy.stats as stats"
   ]
  },
  {
   "cell_type": "code",
   "execution_count": 4,
   "id": "faef00fd",
   "metadata": {},
   "outputs": [],
   "source": [
    "'''\n",
    "IMPORTANT NOTE: File was too big to upload to Gradescope so \n",
    "professors intructed me to drop insignificant columns\n",
    "and then resave it as a new csv file. This file is the \n",
    "smaller, cleaned file.\n",
    "\n",
    "The full dataset can be found at:\n",
    "https://www.kaggle.com/austinreese/craigslist-carstrucks-data\n",
    "'''\n",
    "# Read in dataset using Pandas\n",
    "cars = pd.read_csv('cars_clean.csv')"
   ]
  },
  {
   "cell_type": "code",
   "execution_count": 5,
   "id": "275b3683",
   "metadata": {},
   "outputs": [
    {
     "data": {
      "text/plain": [
       "Index(['price', 'year', 'manufacturer', 'cylinders', 'fuel', 'odometer',\n",
       "       'paint_color'],\n",
       "      dtype='object')"
      ]
     },
     "execution_count": 5,
     "metadata": {},
     "output_type": "execute_result"
    }
   ],
   "source": [
    "# See what attributes I have to work with\n",
    "cars.columns"
   ]
  },
  {
   "cell_type": "code",
   "execution_count": 6,
   "id": "1b4eaab5",
   "metadata": {},
   "outputs": [],
   "source": [
    "# Drop rows with missing data\n",
    "cars = cars.dropna()"
   ]
  },
  {
   "cell_type": "code",
   "execution_count": 7,
   "id": "74764a91",
   "metadata": {},
   "outputs": [],
   "source": [
    "# Rename for legibility\n",
    "cars = cars.rename(columns = {'odometer' : 'miles'})"
   ]
  },
  {
   "cell_type": "code",
   "execution_count": 8,
   "id": "9903ac08",
   "metadata": {},
   "outputs": [],
   "source": [
    "# Remove outliers and other records that make\n",
    "# the data difficult to work with\n",
    "cars = cars[cars.cylinders != 'other']\n",
    "cars = cars[cars.price > 1000]\n",
    "cars = cars[cars.price < 500000]\n",
    "cars = cars[cars.miles < 300000]"
   ]
  },
  {
   "cell_type": "code",
   "execution_count": 9,
   "id": "7874fd2f",
   "metadata": {},
   "outputs": [],
   "source": [
    "# Rename categorical variables to a discrete set to later\n",
    "# be able to measure correlation\n",
    "\n",
    "cars.replace(['3 cylinders', '4 cylinders', '5 cylinders',\n",
    "              '6 cylinders', '8 cylinders', '10 cylinders', '12 cylinders'],\n",
    "             [3, 4, 5, 6, 8, 10, 12], inplace = True)"
   ]
  },
  {
   "cell_type": "code",
   "execution_count": 10,
   "id": "a86b0e9c",
   "metadata": {},
   "outputs": [],
   "source": [
    "# Find the remaining categorical features and converts the \n",
    "# to discrete numbers for mathematical operations\n",
    "\n",
    "categorical = [i for i in cars.columns if cars.dtypes[i]=='object']\n",
    "\n",
    "for column in categorical:\n",
    "    cars[column] = cars[column].factorize()[0]"
   ]
  },
  {
   "cell_type": "code",
   "execution_count": 11,
   "id": "1372614c",
   "metadata": {},
   "outputs": [
    {
     "data": {
      "text/html": [
       "<div>\n",
       "<style scoped>\n",
       "    .dataframe tbody tr th:only-of-type {\n",
       "        vertical-align: middle;\n",
       "    }\n",
       "\n",
       "    .dataframe tbody tr th {\n",
       "        vertical-align: top;\n",
       "    }\n",
       "\n",
       "    .dataframe thead th {\n",
       "        text-align: right;\n",
       "    }\n",
       "</style>\n",
       "<table border=\"1\" class=\"dataframe\">\n",
       "  <thead>\n",
       "    <tr style=\"text-align: right;\">\n",
       "      <th></th>\n",
       "      <th>price</th>\n",
       "      <th>year</th>\n",
       "      <th>manufacturer</th>\n",
       "      <th>cylinders</th>\n",
       "      <th>fuel</th>\n",
       "      <th>miles</th>\n",
       "      <th>paint_color</th>\n",
       "    </tr>\n",
       "  </thead>\n",
       "  <tbody>\n",
       "    <tr>\n",
       "      <th>count</th>\n",
       "      <td>173855.000000</td>\n",
       "      <td>173855.000000</td>\n",
       "      <td>173855.000000</td>\n",
       "      <td>173855.000000</td>\n",
       "      <td>173855.000000</td>\n",
       "      <td>173855.000000</td>\n",
       "      <td>173855.000000</td>\n",
       "    </tr>\n",
       "    <tr>\n",
       "      <th>mean</th>\n",
       "      <td>18030.417699</td>\n",
       "      <td>2010.405620</td>\n",
       "      <td>7.973282</td>\n",
       "      <td>5.961980</td>\n",
       "      <td>0.143085</td>\n",
       "      <td>99092.757148</td>\n",
       "      <td>2.786011</td>\n",
       "    </tr>\n",
       "    <tr>\n",
       "      <th>std</th>\n",
       "      <td>14086.955139</td>\n",
       "      <td>9.287681</td>\n",
       "      <td>8.084976</td>\n",
       "      <td>1.595414</td>\n",
       "      <td>0.501809</td>\n",
       "      <td>60761.473160</td>\n",
       "      <td>2.422368</td>\n",
       "    </tr>\n",
       "    <tr>\n",
       "      <th>min</th>\n",
       "      <td>1012.000000</td>\n",
       "      <td>1900.000000</td>\n",
       "      <td>0.000000</td>\n",
       "      <td>3.000000</td>\n",
       "      <td>0.000000</td>\n",
       "      <td>0.000000</td>\n",
       "      <td>0.000000</td>\n",
       "    </tr>\n",
       "    <tr>\n",
       "      <th>25%</th>\n",
       "      <td>7100.000000</td>\n",
       "      <td>2007.000000</td>\n",
       "      <td>2.000000</td>\n",
       "      <td>4.000000</td>\n",
       "      <td>0.000000</td>\n",
       "      <td>48492.000000</td>\n",
       "      <td>1.000000</td>\n",
       "    </tr>\n",
       "    <tr>\n",
       "      <th>50%</th>\n",
       "      <td>13995.000000</td>\n",
       "      <td>2013.000000</td>\n",
       "      <td>4.000000</td>\n",
       "      <td>6.000000</td>\n",
       "      <td>0.000000</td>\n",
       "      <td>96500.000000</td>\n",
       "      <td>3.000000</td>\n",
       "    </tr>\n",
       "    <tr>\n",
       "      <th>75%</th>\n",
       "      <td>26000.000000</td>\n",
       "      <td>2016.000000</td>\n",
       "      <td>12.000000</td>\n",
       "      <td>8.000000</td>\n",
       "      <td>0.000000</td>\n",
       "      <td>140707.500000</td>\n",
       "      <td>4.000000</td>\n",
       "    </tr>\n",
       "    <tr>\n",
       "      <th>max</th>\n",
       "      <td>289995.000000</td>\n",
       "      <td>2022.000000</td>\n",
       "      <td>41.000000</td>\n",
       "      <td>12.000000</td>\n",
       "      <td>4.000000</td>\n",
       "      <td>299999.000000</td>\n",
       "      <td>11.000000</td>\n",
       "    </tr>\n",
       "  </tbody>\n",
       "</table>\n",
       "</div>"
      ],
      "text/plain": [
       "               price           year   manufacturer      cylinders  \\\n",
       "count  173855.000000  173855.000000  173855.000000  173855.000000   \n",
       "mean    18030.417699    2010.405620       7.973282       5.961980   \n",
       "std     14086.955139       9.287681       8.084976       1.595414   \n",
       "min      1012.000000    1900.000000       0.000000       3.000000   \n",
       "25%      7100.000000    2007.000000       2.000000       4.000000   \n",
       "50%     13995.000000    2013.000000       4.000000       6.000000   \n",
       "75%     26000.000000    2016.000000      12.000000       8.000000   \n",
       "max    289995.000000    2022.000000      41.000000      12.000000   \n",
       "\n",
       "                fuel          miles    paint_color  \n",
       "count  173855.000000  173855.000000  173855.000000  \n",
       "mean        0.143085   99092.757148       2.786011  \n",
       "std         0.501809   60761.473160       2.422368  \n",
       "min         0.000000       0.000000       0.000000  \n",
       "25%         0.000000   48492.000000       1.000000  \n",
       "50%         0.000000   96500.000000       3.000000  \n",
       "75%         0.000000  140707.500000       4.000000  \n",
       "max         4.000000  299999.000000      11.000000  "
      ]
     },
     "execution_count": 11,
     "metadata": {},
     "output_type": "execute_result"
    }
   ],
   "source": [
    "cars.describe()"
   ]
  },
  {
   "cell_type": "code",
   "execution_count": 12,
   "id": "acef6ea0",
   "metadata": {},
   "outputs": [],
   "source": [
    "# Creates a correlation matrix and retreives only\n",
    "# the row that compares price to the rest of the features.\n",
    "corr = cars.corr()\n",
    "corr = corr.reset_index(drop=True)\n",
    "corr = corr.loc[0]\n",
    "\n",
    "\n",
    "# Converts the Series object to a dictionary\n",
    "corr_dict = corr.to_dict()\n",
    "corr_dict.pop('price');"
   ]
  },
  {
   "cell_type": "code",
   "execution_count": 13,
   "id": "a0c7abf1",
   "metadata": {
    "scrolled": true
   },
   "outputs": [
    {
     "data": {
      "text/plain": [
       "[('year', 0.35339632350438727),\n",
       " ('cylinders', 0.34902548821117124),\n",
       " ('fuel', 0.17629837567983667),\n",
       " ('paint_color', -0.11632615633109322),\n",
       " ('manufacturer', -0.12325149848140994),\n",
       " ('miles', -0.5605421023061382)]"
      ]
     },
     "execution_count": 13,
     "metadata": {},
     "output_type": "execute_result"
    }
   ],
   "source": [
    "# Sorts the dictionary items based on correlation value\n",
    "corr_dict = sorted(corr_dict.items(), key=lambda x: x[1], reverse = True)\n",
    "corr_dict"
   ]
  },
  {
   "cell_type": "code",
   "execution_count": 14,
   "id": "b17cf133",
   "metadata": {},
   "outputs": [],
   "source": [
    "# Creates the x and y lists of feature and correlation\n",
    "# coefficients for plotting\n",
    "x_list = []\n",
    "y_list = []\n",
    "for elem in corr_dict:\n",
    "    x_list.append(elem[0])\n",
    "    y_list.append(elem[1])"
   ]
  },
  {
   "cell_type": "code",
   "execution_count": 15,
   "id": "84afe4d2",
   "metadata": {
    "scrolled": true
   },
   "outputs": [
    {
     "data": {
      "image/png": "[encoded data removed]",
      "text/plain": [
       "<Figure size 864x576 with 1 Axes>"
      ]
     },
     "metadata": {
      "needs_background": "light"
     },
     "output_type": "display_data"
    }
   ],
   "source": [
    "# Plots each features correlation vs\n",
    "# the price of the car to measure significance\n",
    "\n",
    "plt.figure(figsize=(12,8))\n",
    "sns.barplot(x = y_list, y = x_list, palette = 'Set2', orient = 'h')\n",
    "plt.ylabel('Features')\n",
    "plt.xlabel('Correlation Coefficient')\n",
    "plt.title('Independent Feature Correlation to Price')\n",
    "plt.show()"
   ]
  },
  {
   "cell_type": "code",
   "execution_count": 16,
   "id": "63654d91",
   "metadata": {},
   "outputs": [],
   "source": [
    "'''\n",
    "For comparabiliy, I decided to take the absolute value of each correlation.\n",
    "To make it easy to see which features are most significant,\n",
    "I wanted the bar chart to be sorted from most significant to least \n",
    "significant.\n",
    "'''\n",
    "\n",
    "\n",
    "# Takes abs of each coefficient for comparability and sorts in descending order\n",
    "y_list_abs = [abs(elem) for elem in y_list]\n",
    "\n",
    "# Merge the x and y lists then sort in \n",
    "# ascening order by the coefficient values\n",
    "merged = list(zip(x_list, y_list_abs))\n",
    "merged.sort(key = lambda x: x[1], reverse = True)\n",
    "\n",
    "# After sorting, seperates the tuples again\n",
    "# for ease in graphing\n",
    "features = []\n",
    "coeff = []\n",
    "for tup in merged:\n",
    "    features.append(tup[0])\n",
    "    coeff.append(tup[1])"
   ]
  },
  {
   "cell_type": "code",
   "execution_count": 17,
   "id": "008a572d",
   "metadata": {},
   "outputs": [
    {
     "data": {
      "image/png": "[encoded data removed]",
      "text/plain": [
       "<Figure size 864x576 with 1 Axes>"
      ]
     },
     "metadata": {
      "needs_background": "light"
     },
     "output_type": "display_data"
    }
   ],
   "source": [
    "# Because the research question was solely about significance, \n",
    "# the absolute value of every coefficient was taken\n",
    "# so its easier to assess significance when looking at the below bar plot\n",
    "\n",
    "plt.figure(figsize=(12,8))\n",
    "sns.barplot(x = features, y = coeff, palette = 'magma')\n",
    "plt.ylabel('Correlation Coefficient (Absolute Value)')\n",
    "plt.xlabel('Features')\n",
    "plt.title('Independent Feature Correlation to Price (Absolute Value)')\n",
    "plt.show()"
   ]
  }
 ],
 "metadata": {
  "kernelspec": {
   "display_name": "Python 3 (ipykernel)",
   "language": "python",
   "name": "python3"
  },
  "language_info": {
   "codemirror_mode": {
    "name": "ipython",
    "version": 3
   },
   "file_extension": ".py",
   "mimetype": "text/x-python",
   "name": "python",
   "nbconvert_exporter": "python",
   "pygments_lexer": "ipython3",
   "version": "3.8.12"
  }
 },
 "nbformat": 4,
 "nbformat_minor": 5
}
