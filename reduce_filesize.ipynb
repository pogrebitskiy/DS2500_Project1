{
 "cells": [
  {
   "cell_type": "code",
   "execution_count": 1,
   "id": "5fbf0e5c",
   "metadata": {},
   "outputs": [],
   "source": [
    "import pandas as pd"
   ]
  },
  {
   "cell_type": "code",
   "execution_count": 2,
   "id": "6c10f9e3",
   "metadata": {},
   "outputs": [],
   "source": [
    "cars = pd.read_csv('vehicles.csv')"
   ]
  },
  {
   "cell_type": "code",
   "execution_count": 3,
   "id": "d869760d",
   "metadata": {},
   "outputs": [],
   "source": [
    "cars.drop(columns = ['url', 'region_url', 'model',\n",
    "                            'title_status', 'VIN', 'size', 'image_url',\n",
    "                            'description', 'lat', 'long', 'region', 'id',\n",
    "                           'posting_date', 'state', 'county', 'transmission',\n",
    "                           'condition', 'drive', 'type'], inplace = True)"
   ]
  },
  {
   "cell_type": "code",
   "execution_count": 6,
   "id": "33f84c6b",
   "metadata": {},
   "outputs": [],
   "source": [
    "cars.to_csv('cars_clean.csv', index = False)"
   ]
  }
 ],
 "metadata": {
  "kernelspec": {
   "display_name": "Python 3 (ipykernel)",
   "language": "python",
   "name": "python3"
  },
  "language_info": {
   "codemirror_mode": {
    "name": "ipython",
    "version": 3
   },
   "file_extension": ".py",
   "mimetype": "text/x-python",
   "name": "python",
   "nbconvert_exporter": "python",
   "pygments_lexer": "ipython3",
   "version": "3.8.12"
  }
 },
 "nbformat": 4,
 "nbformat_minor": 5
}
